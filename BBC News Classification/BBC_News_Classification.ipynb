{
 "cells": [
  {
   "cell_type": "markdown",
   "metadata": {},
   "source": [
    "## BBC News Classification\n",
    "\n",
    "Completed as part of CU Boulder's Unsupervised Algorithms in Machine Learning course."
   ]
  },
  {
   "cell_type": "code",
   "execution_count": 176,
   "metadata": {},
   "outputs": [],
   "source": [
    "# Project dependencies\n",
    "import pandas as pd\n",
    "import matplotlib.pyplot as plt\n",
    "import numpy as np\n",
    "import math\n",
    "import time\n",
    "import re\n",
    "import spacy\n",
    "import itertools\n",
    "from sklearn.decomposition import TruncatedSVD, NMF\n",
    "from sklearn.metrics import accuracy_score\n",
    "from collections import defaultdict\n",
    "from scipy.sparse import csr_matrix\n",
    "# Vectorizing word data\n",
    "# importing all necessary modules\n",
    "import nltk\n",
    "from nltk.tokenize import sent_tokenize, word_tokenize\n",
    "import warnings\n",
    "warnings.filterwarnings(action = 'ignore')\n",
    "\n",
    "import gensim\n",
    "from gensim.models import Word2Vec"
   ]
  },
  {
   "cell_type": "code",
   "execution_count": 336,
   "metadata": {},
   "outputs": [],
   "source": [
    "# Data import\n",
    "train = pd.read_csv(\"data/BBC News Train.csv\")\n",
    "test = pd.read_csv(\"data/BBC News Test.csv\")"
   ]
  },
  {
   "cell_type": "markdown",
   "metadata": {},
   "source": [
    "### Exploratory Data Analysis (EDA)"
   ]
  },
  {
   "cell_type": "code",
   "execution_count": 120,
   "metadata": {},
   "outputs": [
    {
     "name": "stdout",
     "output_type": "stream",
     "text": [
      "   ArticleId                                               Text  Category\n",
      "0       1833  worldcom ex-boss launches defence lawyers defe...  business\n",
      "1        154  german business confidence slides german busin...  business\n",
      "2       1101  bbc poll indicates economic gloom citizens in ...  business\n",
      "3       1976  lifestyle  governs mobile choice  faster  bett...      tech\n",
      "4        917  enron bosses in $168m payout eighteen former e...  business\n",
      "\n",
      "Train:\n",
      "<class 'pandas.core.frame.DataFrame'>\n",
      "RangeIndex: 1490 entries, 0 to 1489\n",
      "Data columns (total 3 columns):\n",
      " #   Column     Non-Null Count  Dtype \n",
      "---  ------     --------------  ----- \n",
      " 0   ArticleId  1490 non-null   int64 \n",
      " 1   Text       1490 non-null   object\n",
      " 2   Category   1490 non-null   object\n",
      "dtypes: int64(1), object(2)\n",
      "memory usage: 35.0+ KB\n",
      "None\n",
      "\n",
      "Test:\n",
      "<class 'pandas.core.frame.DataFrame'>\n",
      "RangeIndex: 735 entries, 0 to 734\n",
      "Data columns (total 2 columns):\n",
      " #   Column     Non-Null Count  Dtype \n",
      "---  ------     --------------  ----- \n",
      " 0   ArticleId  735 non-null    int64 \n",
      " 1   Text       735 non-null    object\n",
      "dtypes: int64(1), object(1)\n",
      "memory usage: 11.6+ KB\n",
      "None\n"
     ]
    }
   ],
   "source": [
    "\n",
    "print(train.head(5))\n",
    "print(\"\\nTrain:\")\n",
    "print(train.info())\n",
    "print(\"\\nTest:\")\n",
    "print(test.info())"
   ]
  },
  {
   "cell_type": "code",
   "execution_count": 79,
   "metadata": {},
   "outputs": [
    {
     "name": "stdout",
     "output_type": "stream",
     "text": [
      "ArticleId 0 0\n",
      "Text 0 0\n",
      "Category 0 0\n",
      "ArticleId 0 0\n",
      "Text 0 0\n"
     ]
    }
   ],
   "source": [
    "# Check for any null/null-like values\n",
    "null_like = [np.nan, None, [], {}, 'NaN', 'Null','NULL','None','NA','?','-', '.', '', ' ', '   ']\n",
    "\n",
    "for df in [train, test]:\n",
    "    for c in df.columns:\n",
    "        string_null = np.array([x in null_like for x in df[c]])\n",
    "        print(c, df[c].isnull().sum(), string_null.sum())"
   ]
  },
  {
   "cell_type": "code",
   "execution_count": 337,
   "metadata": {},
   "outputs": [
    {
     "name": "stdout",
     "output_type": "stream",
     "text": [
      "Cleaned in: 60.09 secs\n"
     ]
    }
   ],
   "source": [
    "# Top 20 most frequent words:\n",
    "# ['the', '.', 'to', 'of', 'and', 'a', 'in', 's', 'for', 'is', 'that', 'it', 'on', 'said', 'was', 'he', 'be', 'with', 'has', 'as']\n",
    "# So we need to do some cleaning!\n",
    "\n",
    "\n",
    "# Using helpers from: https://www.kaggle.com/code/pierremegret/gensim-word2vec-tutorial/notebook\n",
    "nlp = spacy.load('en_core_web_sm', disable=['ner', 'parser']) # disabling Named Entity Recognition for speed\n",
    "\n",
    "def cleaning(doc):\n",
    "    # Lemmatizes and removes stopwords\n",
    "    # doc needs to be a spacy Doc object\n",
    "    txt = [token.lemma_ for token in doc if not token.is_stop]\n",
    "    return ' '.join(txt)\n",
    "\n",
    "brief_cleaning = (re.sub(\"[^A-Za-z']+\", ' ', str(row)).lower() for row in train['Text'])\n",
    "\n",
    "t = time.time()\n",
    "\n",
    "train['Clean Text'] = [cleaning(doc) for doc in nlp.pipe(brief_cleaning, batch_size=5000)]\n",
    "\n",
    "print('Cleaned in: {} secs'.format(round((time.time() - t), 2)))"
   ]
  },
  {
   "cell_type": "code",
   "execution_count": 19,
   "metadata": {},
   "outputs": [
    {
     "name": "stdout",
     "output_type": "stream",
     "text": [
      "showing info https://raw.githubusercontent.com/nltk/nltk_data/gh-pages/index.xml\n"
     ]
    },
    {
     "data": {
      "text/plain": [
       "True"
      ]
     },
     "execution_count": 19,
     "metadata": {},
     "output_type": "execute_result"
    }
   ],
   "source": [
    "\n",
    "# for installing missing corpora if needed\n",
    "nltk.download()"
   ]
  },
  {
   "cell_type": "code",
   "execution_count": 338,
   "metadata": {},
   "outputs": [
    {
     "name": "stdout",
     "output_type": "stream",
     "text": [
      "18437\n",
      "['worldcom', 'ex', 'boss', 'launch', 'defence', 'lawyer', 'defend', 'worldcom', 'chief', 'bernie', 'ebber', 'battery', 'fraud', 'charge', 'call', 'company', 'whistleblow', 'witness', 'cynthia', 'cooper', 'worldcom', 's', 'ex', 'head', 'internal', 'accounting', 'alert', 'director', 'irregular', 'accounting', 'practice', 'telecom', 'giant', 'warning', 'lead', 'collapse', 'firm', 'follow', 'discovery', 'bn', 'bn', 'accounting', 'fraud', 'mr', 'ebber', 'plead', 'guilty', 'charge', 'fraud', 'conspiracy', 'prosecution', 'lawyer', 'argue', 'mr', 'ebber', 'orchestrate', 'series', 'accounting', 'trick', 'worldcom', 'order', 'employee', 'hide', 'expense', 'inflate', 'revenue', 'meet', 'wall', 'street', 'earning', 'estimate', 'ms', 'cooper', 'run', 'consulting', 'business', 'tell', 'jury', 'new', 'york', 'wednesday', 'external', 'auditor', 'arthur', 'andersen', 'approve', 'worldcom', 's', 'accounting', 'early', 'say', 'andersen', 'give', 'green', 'light', 'procedure', 'practice', 'worldcom', 'mr', 'ebber', 's', 'lawyer', 'say', 'unaware', 'fraud', 'argue', 'auditor', 'alert', 'problem', 'ms', 'cooper', 'say', 'shareholder', 'meeting', 'mr', 'ebber', 'pass', 'technical', 'question', 'company', 's', 'finance', 'chief', 'give', 'brief', 'answer', 'prosecution', 's', 'star', 'witness', 'worldcom', 'financial', 'chief', 'scott', 'sullivan', 'say', 'mr', 'ebber', 'order', 'accounting', 'adjustment', 'firm', 'tell', 'hit', 'book', 'ms', 'cooper', 'say', 'mr', 'sullivan', 'mention', 'uncomfortable', 'worldcom', 's', 'accounting', 'audit', 'committee', 'meeting', 'mr', 'ebber', 'face', 'jail', 'sentence', 'year', 'convict', 'charge', 'face', 'worldcom', 'emerge', 'bankruptcy', 'protection', 'know', 'mci', 'week', 'mci', 'agree', 'buyout', 'verizon', 'communication', 'deal', 'value', 'bn'] ['hewitt', 'overcome', 'wobble', 'sydney', 'lleyton', 'hewitt', 'give', 'perfect', 'preparation', 'week', 's', 'australian', 'open', 'victory', 'ivo', 'minar', 'final', 'sydney', 'international', 'defend', 'champion', 'brush', 'aside', 'czech', 'qualifi', 'australian', 'world', 'number', 'stroll', 'game', 'match', 'shock', 'minar', 'win', 'seed', 'rattle', 'recover', 'close', 'set', 'race', 'victory', 'exactly', 'hour', 'strange', 'match', 'momentum', 'swing', 'say', 'hewitt', 'feel', 'like', 'come', 'block', 'extremely', 'loosen', 'bit', 'get', 'try', 'settle', 'notch', 'able', 'hewitt', 'lift', 'sydney', 'title', 'time', 'year', 'keep', 'get', 'well', 'well', 'year', 'hewitt', 'say', 've', 'play', 'tournament', 'time', 've', 'win', 'time', 'hewitt', 'go', 'final', 'short', 'price', 'favourite', 'clinch', 'th', 'career', 'title', 'drop', 'set', 'week', 'set', 'meet', 'frenchman', 'arnaud', 'clement', 'round', 'australian', 'open', 'minar', 'rank', 'th', 'world', 'force', 'pull', 'australian', 'open', 'qualifying', 'draw', 'play', 'atp', 'final', 'big', 'success', 'say', 'year', 'old', 'nervous', 'night', 'couldn', 't', 'sleep', 've', 'play', 'player', 'want', 'play', 'qualify', 'melbourne', 's', 'saturday', 'm', 'main', 'draw', 'need', 'point', 'money', 'alicia', 'molik', 'take', 'samantha', 'stosur', 'australian', 'woman', 's', 'final', 'later', 'saturday']\n"
     ]
    }
   ],
   "source": [
    "# iterate through each sentence in the file\n",
    "tokens_by_idx = []\n",
    "word_freq = defaultdict(int)\n",
    "\n",
    "for idx, article in train.iterrows():\n",
    "    text = article['Clean Text']\n",
    "    for i in sent_tokenize(text):\n",
    "        temp = []\n",
    "        # tokenize the sentence into words\n",
    "        for j in word_tokenize(i):\n",
    "            temp.append(j.lower())\n",
    "            word_freq[j.lower()] += 1\n",
    "        tokens_by_idx.append(temp)\n",
    "\n",
    "# With stop words, unique word count was 28,178\n",
    "print(len(word_freq))\n",
    "print(tokens_by_idx[0],tokens_by_idx[20])"
   ]
  },
  {
   "cell_type": "code",
   "execution_count": 138,
   "metadata": {},
   "outputs": [
    {
     "name": "stdout",
     "output_type": "stream",
     "text": [
      "Top 20 most frequent:\n",
      " ['s', 'say', 'year', 'mr', 'new', 'people', 'm', 'good', 'win', 'time', 'game', 'film', 'world', 't', 'uk', 'come', 'government', 'play', 'go', 'work']\n"
     ]
    }
   ],
   "source": [
    "word_freq_sorted = sorted(word_freq, key=word_freq.get, reverse=True)\n",
    "print(\"Top 20 most frequent:\\n\", word_freq_sorted[:20])"
   ]
  },
  {
   "cell_type": "code",
   "execution_count": 354,
   "metadata": {},
   "outputs": [
    {
     "name": "stdout",
     "output_type": "stream",
     "text": [
      "Score 'lawyer' <-> 'defence':  0.2428946\n",
      "Score 'lawyer' <-> 'economy': -0.07808442\n"
     ]
    }
   ],
   "source": [
    "\n",
    "# Train Word2Vec model\n",
    "bag_of_words_model = gensim.models.Word2Vec(tokens_by_idx, min_count=5, vector_size=100, window=3, epochs=40)\n",
    "\n",
    "# Print results\n",
    "print(\"Score 'lawyer' <-> 'defence': \", bag_of_words_model.wv.similarity('lawyer', 'defence'))\n",
    "\n",
    "print(\"Score 'lawyer' <-> 'economy':\", bag_of_words_model.wv.similarity('lawyer', 'economy'))"
   ]
  },
  {
   "cell_type": "code",
   "execution_count": 186,
   "metadata": {},
   "outputs": [
    {
     "data": {
      "text/plain": [
       "[('economic', 0.9935590624809265),\n",
       " ('spending', 0.9910126328468323),\n",
       " ('figure', 0.9864799976348877),\n",
       " ('taxis', 0.9825592041015625),\n",
       " ('cut', 0.9806527495384216),\n",
       " ('income', 0.9800869822502136),\n",
       " ('raise', 0.9789696335792542),\n",
       " ('bank', 0.9781836271286011),\n",
       " ('deficit', 0.9772624373435974),\n",
       " ('country', 0.9765828847885132)]"
      ]
     },
     "execution_count": 186,
     "metadata": {},
     "output_type": "execute_result"
    }
   ],
   "source": [
    "bag_of_words_model.wv.most_similar(positive=[\"economy\"])"
   ]
  },
  {
   "cell_type": "code",
   "execution_count": 128,
   "metadata": {},
   "outputs": [],
   "source": [
    "sorted_counts = sorted(word_freq.items(), key=lambda x: x[1], reverse=True)"
   ]
  },
  {
   "cell_type": "code",
   "execution_count": 187,
   "metadata": {},
   "outputs": [
    {
     "data": {
      "image/png": "[encoded data removed]",
      "text/plain": [
       "<Figure size 432x288 with 1 Axes>"
      ]
     },
     "metadata": {
      "needs_background": "light"
     },
     "output_type": "display_data"
    }
   ],
   "source": [
    "\n",
    "x, y = zip(*sorted_counts[:300]) # unpack a list of pairs into two tuples\n",
    "\n",
    "plt.plot(x, y, color=\"purple\")\n",
    "plt.title(\"Word Token Frequency\")\n",
    "plt.xticks(np.arange(1, 300, 20.0), rotation = 65)\n",
    "plt.show()"
   ]
  },
  {
   "cell_type": "code",
   "execution_count": null,
   "metadata": {},
   "outputs": [],
   "source": []
  },
  {
   "cell_type": "code",
   "execution_count": 355,
   "metadata": {},
   "outputs": [],
   "source": [
    "# lastly, we need to prepare vectors for our articles, not just words\n",
    "# useful resource: https://blog.eduonix.com/artificial-intelligence/converting-word-vectors-document-vectors-using-gensim-library/\n",
    "doc_vectors = []\n",
    "min_val = 0\n",
    "\n",
    "for idx, article in train.iterrows():\n",
    "    tokens = tokens_by_idx[idx]\n",
    "    zero_vector = np.zeros(bag_of_words_model.vector_size)\n",
    "    vectors = []\n",
    "    for token in tokens:\n",
    "        if token in bag_of_words_model.wv:\n",
    "            try:\n",
    "                vectors.append(bag_of_words_model.wv[token])\n",
    "            except KeyError:\n",
    "                continue\n",
    "    if vectors:\n",
    "        vectors = np.asarray(vectors)\n",
    "        avg_vec = vectors.mean(axis=0)\n",
    "        if min(avg_vec) < min_val:\n",
    "            min_val = min(avg_vec)\n",
    "        doc_vectors.append(avg_vec)\n",
    "    else:\n",
    "        doc_vectors.append(zero_vector)\n",
    "\n",
    "train_vectors = train[['ArticleId']].copy()\n",
    "train_vectors['Vectors'] = doc_vectors\n"
   ]
  },
  {
   "cell_type": "code",
   "execution_count": 356,
   "metadata": {},
   "outputs": [
    {
     "name": "stdout",
     "output_type": "stream",
     "text": [
      "[array([0.8863976 , 1.8767757 , 1.9353137 , 1.7304355 , 2.0393772 ,\n",
      "       1.2551463 , 1.2515088 , 2.0416667 , 1.7298709 , 1.9925706 ,\n",
      "       1.281667  , 1.2552978 , 1.3330688 , 1.6340147 , 1.3161261 ,\n",
      "       1.4229617 , 1.9519684 , 1.0312808 , 1.2097414 , 1.6228107 ,\n",
      "       1.4062114 , 1.7677444 , 1.9340491 , 1.8739758 , 1.548852  ,\n",
      "       1.4373631 , 1.3194989 , 1.6017755 , 1.3006411 , 1.4830455 ,\n",
      "       1.9124548 , 1.5291111 , 1.2069255 , 0.845374  , 1.5702043 ,\n",
      "       1.9728563 , 2.1842308 , 1.3186527 , 1.5257792 , 1.4777999 ,\n",
      "       2.0063097 , 1.3860914 , 1.5514451 , 0.77395564, 1.9253343 ,\n",
      "       1.9359462 , 1.1308306 , 1.0777054 , 1.8742064 , 1.5240506 ,\n",
      "       1.5867352 , 1.2750415 , 1.7263677 , 1.3411274 , 1.5212865 ,\n",
      "       2.1543179 , 1.4731293 , 1.6157598 , 0.77977383, 1.5409219 ,\n",
      "       0.77041066, 1.1910465 , 1.7839032 , 1.5483985 , 1.3814892 ,\n",
      "       1.4644842 , 1.444418  , 1.6757306 , 1.3381417 , 1.8400769 ,\n",
      "       0.9726956 , 1.6894147 , 1.5727724 , 1.4271151 , 1.4021534 ,\n",
      "       1.3821169 , 1.4752696 , 2.0092313 , 1.0636171 , 1.4344553 ,\n",
      "       1.137923  , 1.6069604 , 1.5707935 , 1.7752451 , 1.2475052 ,\n",
      "       1.429597  , 1.2698472 , 1.9098973 , 1.7037642 , 1.7493947 ,\n",
      "       1.4252211 , 1.5653138 , 1.6854223 , 1.2165606 , 1.8144565 ,\n",
      "       1.8289609 , 2.2188537 , 1.4339931 , 1.4732716 , 1.5469714 ],\n",
      "      dtype=float32), array([1.3527682 , 1.420042  , 1.4780768 , 1.5549768 , 2.0583367 ,\n",
      "       1.6857702 , 1.6724408 , 1.4906939 , 1.3514702 , 1.3741302 ,\n",
      "       1.6204515 , 0.30903506, 0.8457446 , 2.0285656 , 1.4611502 ,\n",
      "       1.3843925 , 1.7301335 , 1.2220966 , 1.0511003 , 1.5834209 ,\n",
      "       1.1657823 , 1.8509605 , 1.1331093 , 2.0720708 , 2.015234  ,\n",
      "       1.5630413 , 1.3129451 , 1.6719962 , 1.4266391 , 1.5296644 ,\n",
      "       1.1791437 , 1.7802098 , 1.2014163 , 1.5367396 , 1.4274154 ,\n",
      "       1.5872568 , 1.6217293 , 1.5430604 , 1.4074115 , 1.3076365 ,\n",
      "       1.6020104 , 1.3736196 , 0.7322286 , 1.48107   , 1.3959005 ,\n",
      "       1.5378878 , 1.3920852 , 1.2106217 , 1.4327843 , 1.6373144 ,\n",
      "       2.0471041 , 0.7292237 , 1.7676758 , 1.4181665 , 1.2901658 ,\n",
      "       0.9128317 , 1.5369368 , 1.1659164 , 1.3924806 , 1.8312569 ,\n",
      "       1.5945779 , 1.5571761 , 1.7260454 , 1.0759426 , 1.3230047 ,\n",
      "       1.3607533 , 1.5685503 , 1.8241959 , 1.1965668 , 1.7126889 ,\n",
      "       1.5088251 , 1.880726  , 1.4695112 , 1.3367995 , 0.94058466,\n",
      "       1.2799691 , 1.5362762 , 1.7009245 , 1.712849  , 1.5126486 ,\n",
      "       1.2164581 , 1.0618275 , 0.9622345 , 1.5472257 , 1.4413832 ,\n",
      "       1.8152177 , 1.5611827 , 1.5344847 , 2.124591  , 1.5156959 ,\n",
      "       1.589459  , 1.4848443 , 1.8555945 , 0.8795324 , 1.7078173 ,\n",
      "       1.8374909 , 1.6961615 , 1.6729712 , 1.174254  , 1.3745762 ],\n",
      "      dtype=float32)]\n"
     ]
    }
   ],
   "source": [
    "# Shift all values to be positive\n",
    "pos_vectors = []\n",
    "for vector in doc_vectors:\n",
    "    pos_vectors.append(vector + abs(min_val))\n",
    "print(pos_vectors[:2])"
   ]
  },
  {
   "cell_type": "markdown",
   "metadata": {},
   "source": [
    "### Unsupervised Model"
   ]
  },
  {
   "cell_type": "code",
   "execution_count": 190,
   "metadata": {},
   "outputs": [
    {
     "name": "stdout",
     "output_type": "stream",
     "text": [
      "['business' 'tech' 'politics' 'sport' 'entertainment']\n"
     ]
    }
   ],
   "source": [
    "# We are looking to categorize into 5 labels\n",
    "print(train['Category'].unique())"
   ]
  },
  {
   "cell_type": "code",
   "execution_count": 357,
   "metadata": {},
   "outputs": [
    {
     "data": {
      "text/plain": [
       "NMF(beta_loss='kullback-leibler', init='nndsvda', l1_ratio=0.5, n_components=5,\n",
       "    random_state=400, solver='mu')"
      ]
     },
     "execution_count": 357,
     "metadata": {},
     "output_type": "execute_result"
    }
   ],
   "source": [
    "\n",
    "train_mat = csr_matrix(pos_vectors)\n",
    "\n",
    "# svd_model = TruncatedSVD(n_components=5, n_iter=7, random_state=42)\n",
    "# svd_model.fit(train_mat)\n",
    "nmf_mod = NMF(n_components=5, init='nndsvda', solver = 'mu', beta_loss = 'kullback-leibler',\n",
    "                l1_ratio = 0.5, random_state = 400)\n",
    "nmf_mod.fit(train_mat)"
   ]
  },
  {
   "cell_type": "code",
   "execution_count": 366,
   "metadata": {},
   "outputs": [],
   "source": [
    "def predict(weights):\n",
    "    sortedW = np.argsort(weights)\n",
    "    k, maxValue = sortedW.shape\n",
    "    predictions = [[sortedW[i][maxValue - 1]] for i in range(k)]\n",
    "    topics = np.empty(k, dtype = np.int64)\n",
    "    for i in range(k):\n",
    "        topics[i] = predictions[i][0]\n",
    "    return topics\n",
    "\n",
    "def best_labels(df, y_pred):\n",
    "    \"\"\"\n",
    "    Returns label indices\n",
    "    Example output: (1,2,3,5,4), 0.5\n",
    "    \"\"\"\n",
    "    categories = ['business','tech','politics','sport','entertainment']\n",
    "    perms = list(itertools.permutations([0, 1, 2, 3, 4]))\n",
    "    acc = 0\n",
    "    best_perm = []\n",
    "    current = {}\n",
    "    for perm in perms:\n",
    "        for i in range(len(categories)):\n",
    "            current[categories[i]] = perm[i]\n",
    "            if len(current) == 5:\n",
    "                df['test'] = df['Category'].map(current)\n",
    "                current_accuracy = accuracy_score(df['test'], y_pred)\n",
    "                if current_accuracy > acc:\n",
    "                    acc = current_accuracy\n",
    "                    best_perm = perm\n",
    "                    df['Predicted'] = df['test']\n",
    "    df = df.drop(columns=[\"test\"])\n",
    "    return best_perm, acc"
   ]
  },
  {
   "cell_type": "code",
   "execution_count": 367,
   "metadata": {},
   "outputs": [
    {
     "name": "stdout",
     "output_type": "stream",
     "text": [
      "accuracy= 0.7261744966442953\n"
     ]
    }
   ],
   "source": [
    "y_transform = predict(nmf_mod.transform(train_mat))\n",
    "label_order, accuracy = best_labels(train, y_transform)\n",
    "print('accuracy=', accuracy)\n",
    "# vector_size 50: 0.701\n",
    "# vector_size 75: 0.7\n",
    "# vector_size 100: 0.742 (window size: 3)\n",
    "# vector_size 125: 0.710\n",
    "\n",
    "# vector_size: 100, window size: 4, min_count: 5\n",
    "# 0.714\n",
    "# vector_size: 100, window size: 2\n",
    "# 0.672\n",
    "\n",
    "# min_count 10\n",
    "# 0.506\n",
    "# min_count 3\n",
    "# 0.6637\n",
    "\n",
    "# epochs 5 -> 10\n",
    "# 0.5711\n",
    "# epochs 20\n",
    "# 0.700\n",
    "# epochs 40\n",
    "# 0.726\n",
    "# epochs 50\n",
    "# 0.711\n"
   ]
  },
  {
   "cell_type": "code",
   "execution_count": 170,
   "metadata": {},
   "outputs": [
    {
     "name": "stdout",
     "output_type": "stream",
     "text": [
      "Explained variance of the SVD step: 96.8%\n"
     ]
    }
   ],
   "source": [
    "explained_variance = svd_model.explained_variance_ratio_.sum()\n",
    "\n",
    "print(f\"Explained variance of the SVD step: {explained_variance * 100:.1f}%\")"
   ]
  },
  {
   "cell_type": "markdown",
   "metadata": {},
   "source": [
    "### Comparing to Supervised Model"
   ]
  },
  {
   "cell_type": "code",
   "execution_count": null,
   "metadata": {},
   "outputs": [],
   "source": []
  }
 ],
 "metadata": {
  "kernelspec": {
   "display_name": "Python 3.9.0 64-bit",
   "language": "python",
   "name": "python3"
  },
  "language_info": {
   "codemirror_mode": {
    "name": "ipython",
    "version": 3
   },
   "file_extension": ".py",
   "mimetype": "text/x-python",
   "name": "python",
   "nbconvert_exporter": "python",
   "pygments_lexer": "ipython3",
   "version": "3.9.0"
  },
  "orig_nbformat": 4,
  "vscode": {
   "interpreter": {
    "hash": "aee8b7b246df8f9039afb4144a1f6fd8d2ca17a180786b69acc140d282b71a49"
   }
  }
 },
 "nbformat": 4,
 "nbformat_minor": 2
}
