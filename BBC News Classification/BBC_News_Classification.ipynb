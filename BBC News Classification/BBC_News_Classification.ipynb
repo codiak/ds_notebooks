{
 "cells": [
  {
   "cell_type": "markdown",
   "metadata": {},
   "source": [
    "## BBC News Classification\n",
    "\n",
    "Completed as part of CU Boulder's Unsupervised Algorithms in Machine Learning course."
   ]
  },
  {
   "cell_type": "code",
   "execution_count": 2,
   "metadata": {},
   "outputs": [],
   "source": [
    "# Project dependencies\n",
    "import pandas as pd\n",
    "import matplotlib.pyplot as plt\n",
    "import numpy as np\n",
    "import math"
   ]
  },
  {
   "cell_type": "code",
   "execution_count": 8,
   "metadata": {},
   "outputs": [],
   "source": [
    "# Data import\n",
    "train = pd.read_csv(\"data/BBC News Train.csv\")\n",
    "test = pd.read_csv(\"data/BBC News Test.csv\")"
   ]
  },
  {
   "cell_type": "markdown",
   "metadata": {},
   "source": [
    "### Exploratory Data Analysis (EDA)"
   ]
  },
  {
   "cell_type": "code",
   "execution_count": 9,
   "metadata": {},
   "outputs": [
    {
     "name": "stdout",
     "output_type": "stream",
     "text": [
      "   ArticleId                                               Text  Category\n",
      "0       1833  worldcom ex-boss launches defence lawyers defe...  business\n",
      "1        154  german business confidence slides german busin...  business\n",
      "2       1101  bbc poll indicates economic gloom citizens in ...  business\n",
      "3       1976  lifestyle  governs mobile choice  faster  bett...      tech\n",
      "4        917  enron bosses in $168m payout eighteen former e...  business\n",
      "<class 'pandas.core.frame.DataFrame'>\n",
      "RangeIndex: 1490 entries, 0 to 1489\n",
      "Data columns (total 3 columns):\n",
      " #   Column     Non-Null Count  Dtype \n",
      "---  ------     --------------  ----- \n",
      " 0   ArticleId  1490 non-null   int64 \n",
      " 1   Text       1490 non-null   object\n",
      " 2   Category   1490 non-null   object\n",
      "dtypes: int64(1), object(2)\n",
      "memory usage: 35.0+ KB\n",
      "\n",
      "Train: None\n",
      "<class 'pandas.core.frame.DataFrame'>\n",
      "RangeIndex: 735 entries, 0 to 734\n",
      "Data columns (total 2 columns):\n",
      " #   Column     Non-Null Count  Dtype \n",
      "---  ------     --------------  ----- \n",
      " 0   ArticleId  735 non-null    int64 \n",
      " 1   Text       735 non-null    object\n",
      "dtypes: int64(1), object(1)\n",
      "memory usage: 11.6+ KB\n",
      "\n",
      "Test: None\n"
     ]
    }
   ],
   "source": [
    "\n",
    "print(train.head(5))\n",
    "print(\"\\nTrain:\", train.info())\n",
    "print(\"\\nTest:\", test.info())"
   ]
  },
  {
   "cell_type": "code",
   "execution_count": 11,
   "metadata": {},
   "outputs": [
    {
     "name": "stdout",
     "output_type": "stream",
     "text": [
      "ArticleId 0 0\n",
      "Text 0 0\n",
      "Category 0 0\n",
      "ArticleId 0 0\n",
      "Text 0 0\n"
     ]
    }
   ],
   "source": [
    "# Check for any null/null-like values\n",
    "null_like = [np.nan, None, [], {}, 'NaN', 'Null','NULL','None','NA','?','-', '.', '', ' ', '   ']\n",
    "\n",
    "for df in [train, test]:\n",
    "    for c in df.columns:\n",
    "        string_null = np.array([x in null_like for x in df[c]])\n",
    "        print(c, df[c].isnull().sum(), string_null.sum())"
   ]
  },
  {
   "cell_type": "code",
   "execution_count": null,
   "metadata": {},
   "outputs": [],
   "source": [
    "fig, a = plt.subplots(1,3) \n",
    "fig.set_figheight(12)\n",
    "fig.set_figwidth(14)\n",
    "fig.tight_layout()\n",
    "\n",
    "for i, c in enumerate(cleaned.columns):\n",
    "  data = cleaned[c]\n",
    "  ax = a.flat[i]\n",
    "  if data.dtype == 'bool':\n",
    "    trues = np.count_nonzero(data)\n",
    "    falses = np.size(data) - trues\n",
    "    ax.bar([\"True ({})\".format(trues), \"False ({})\".format(falses)], [trues, falses])\n",
    "  else:\n",
    "    ax.hist(data, bins=50, log=True)\n",
    "  ax.set_title(c)\n",
    "\n",
    "for i in range(8,9):\n",
    "  a.flat[i].set_visible(False)"
   ]
  }
 ],
 "metadata": {
  "kernelspec": {
   "display_name": "Python 3.9.0 64-bit",
   "language": "python",
   "name": "python3"
  },
  "language_info": {
   "codemirror_mode": {
    "name": "ipython",
    "version": 3
   },
   "file_extension": ".py",
   "mimetype": "text/x-python",
   "name": "python",
   "nbconvert_exporter": "python",
   "pygments_lexer": "ipython3",
   "version": "3.9.0"
  },
  "orig_nbformat": 4,
  "vscode": {
   "interpreter": {
    "hash": "aee8b7b246df8f9039afb4144a1f6fd8d2ca17a180786b69acc140d282b71a49"
   }
  }
 },
 "nbformat": 4,
 "nbformat_minor": 2
}
