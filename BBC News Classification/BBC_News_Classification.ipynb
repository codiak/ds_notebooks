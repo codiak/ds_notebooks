{
 "cells": [
  {
   "cell_type": "markdown",
   "metadata": {},
   "source": [
    "## BBC News Classification\n",
    "\n",
    "_Completed as part of CU Boulder's **Unsupervised Algorithms in Machine Learning** course._\n",
    "\n",
    "This project uses both an unsupervised and a supervised model to predict the categories of a BBC news article dataset.\n",
    "\n",
    "The BBC news article dataset was provided on Kaggle here:\n",
    "https://www.kaggle.com/c/learn-ai-bbc/overview\n",
    "\n",
    "_Citation:_\n",
    "\n",
    "BBC. (2019, December). BBC News Classification, v1. Retrieved August 14, 2022 from https://www.kaggle.com/competitions/learn-ai-bbc/data.\n"
   ]
  },
  {
   "cell_type": "code",
   "execution_count": 79,
   "metadata": {},
   "outputs": [],
   "source": [
    "# First we will import all needed dependencies\n",
    "import pandas as pd\n",
    "import matplotlib.pyplot as plt\n",
    "import numpy as np\n",
    "import math\n",
    "import time\n",
    "import re\n",
    "import spacy\n",
    "import itertools\n",
    "from sklearn.decomposition import NMF\n",
    "from sklearn.ensemble import RandomForestClassifier\n",
    "from sklearn.metrics import accuracy_score\n",
    "from collections import defaultdict\n",
    "from scipy.sparse import csr_matrix\n",
    "from sklearn.model_selection import train_test_split\n",
    "from sklearn.metrics import roc_auc_score\n",
    "from sklearn.metrics import roc_curve\n",
    "# Vectorization libraries and configuration\n",
    "import nltk\n",
    "from nltk.tokenize import sent_tokenize, word_tokenize\n",
    "import warnings\n",
    "warnings.filterwarnings(action = 'ignore')\n",
    "import gensim\n",
    "from gensim.models import Word2Vec"
   ]
  },
  {
   "cell_type": "code",
   "execution_count": 88,
   "metadata": {},
   "outputs": [],
   "source": [
    "# Data import\n",
    "train = pd.read_csv(\"data/BBC News Train.csv\")\n",
    "# There is an unlabelled test set available for the Kaggle competition\n",
    "# test = pd.read_csv(\"data/BBC News Test.csv\")"
   ]
  },
  {
   "cell_type": "markdown",
   "metadata": {},
   "source": [
    "### Exploratory Data Analysis (EDA)\n",
    "\n",
    "First we will begin by looking the size of our data, features, and data types."
   ]
  },
  {
   "cell_type": "code",
   "execution_count": 89,
   "metadata": {},
   "outputs": [
    {
     "name": "stdout",
     "output_type": "stream",
     "text": [
      "   ArticleId                                               Text  Category\n",
      "0       1833  worldcom ex-boss launches defence lawyers defe...  business\n",
      "1        154  german business confidence slides german busin...  business\n",
      "2       1101  bbc poll indicates economic gloom citizens in ...  business\n",
      "3       1976  lifestyle  governs mobile choice  faster  bett...      tech\n",
      "4        917  enron bosses in $168m payout eighteen former e...  business\n",
      "\n",
      "Train:\n",
      "<class 'pandas.core.frame.DataFrame'>\n",
      "RangeIndex: 1490 entries, 0 to 1489\n",
      "Data columns (total 3 columns):\n",
      " #   Column     Non-Null Count  Dtype \n",
      "---  ------     --------------  ----- \n",
      " 0   ArticleId  1490 non-null   int64 \n",
      " 1   Text       1490 non-null   object\n",
      " 2   Category   1490 non-null   object\n",
      "dtypes: int64(1), object(2)\n",
      "memory usage: 35.0+ KB\n",
      "None\n"
     ]
    }
   ],
   "source": [
    "\n",
    "print(train.head(5))\n",
    "print(\"\\nTrain:\")\n",
    "print(train.info())"
   ]
  },
  {
   "cell_type": "markdown",
   "metadata": {},
   "source": [
    "The BBC news article train dataset is relatively small, with 1,490 articles for which there is only one feature, \"Text\", and our label is \"Category\".\n",
    "\n",
    "It looks like the article text has already been processed a bit, lowercasing content and removing some punctuation. We should also verify we don't have null values, and look at what content is contained in \"Text\"."
   ]
  },
  {
   "cell_type": "code",
   "execution_count": 53,
   "metadata": {},
   "outputs": [
    {
     "name": "stdout",
     "output_type": "stream",
     "text": [
      "ArticleId 0 0\n",
      "Text 0 0\n",
      "Category 0 0\n",
      "ArticleId 0 0\n",
      "Text 0 0\n"
     ]
    }
   ],
   "source": [
    "# Check for any null/null-like values\n",
    "null_like = [np.nan, None, [], {}, 'NaN', 'Null','NULL','None','NA','?','-', '.', '', ' ', '   ']\n",
    "\n",
    "for c in train.columns:\n",
    "    string_null = np.array([x in null_like for x in train[c]])\n",
    "    print(c, train[c].isnull().sum(), string_null.sum())"
   ]
  },
  {
   "cell_type": "code",
   "execution_count": 94,
   "metadata": {},
   "outputs": [
    {
     "name": "stdout",
     "output_type": "stream",
     "text": [
      "28178\n",
      "Uncleaned, top 20 most frequent:\n",
      " ['the', '.', 'to', 'of', 'and', 'a', 'in', 's', 'for', 'is', 'that', 'it', 'on', 'said', 'was', 'he', 'be', 'with', 'has', 'as']\n"
     ]
    }
   ],
   "source": [
    "# Identify frequent work tokens to see what can be cleaned out\n",
    "word_freq_preview = defaultdict(int)\n",
    "\n",
    "for idx, article in train.iterrows():\n",
    "    text = article['Text']\n",
    "    for i in sent_tokenize(text):\n",
    "        temp = []\n",
    "        # tokenize the sentence into words\n",
    "        for j in word_tokenize(i):\n",
    "            temp.append(j)\n",
    "            word_freq_preview[j] += 1\n",
    "print(len(word_freq_preview))\n",
    "word_freq_preview_sorted = sorted(word_freq_preview, key=word_freq_preview.get, reverse=True)\n",
    "print(\"Uncleaned, top 20 most frequent:\\n\", word_freq_preview_sorted[:20])"
   ]
  },
  {
   "cell_type": "code",
   "execution_count": 95,
   "metadata": {},
   "outputs": [],
   "source": [
    "# Top 20 most frequent words:\n",
    "# ['the', '.', 'to', 'of', 'and', 'a', 'in', 's', 'for', 'is', 'that', 'it', 'on', 'said', 'was', 'he', 'be', 'with', 'has', 'as']\n",
    "# Lots of stop words, so we need to do some cleaning!\n",
    "\n",
    "# Using helpers from: https://www.kaggle.com/code/pierremegret/gensim-word2vec-tutorial/notebook\n",
    "nlp = spacy.load('en_core_web_sm', disable=['ner', 'parser']) # disabling Named Entity Recognition for speed\n",
    "\n",
    "def cleaning(doc):\n",
    "    # Removes stopwords and lemmatizes\n",
    "    txt = [token.lemma_ for token in doc if not token.is_stop]\n",
    "    return ' '.join(txt)\n",
    "brief_cleaning = (re.sub(\"[^A-Za-z']+\", ' ', str(row)).lower() for row in train['Text'])\n",
    "\n",
    "train['Clean Text'] = [cleaning(doc) for doc in nlp.pipe(brief_cleaning, batch_size=5000)]"
   ]
  },
  {
   "cell_type": "markdown",
   "metadata": {},
   "source": [
    "The now clean text data needs to be prepared for interpretation. Simply passing arbitrary strings (each of which are unique) will not produce any results with matrix factorization methods - or most any machine learning methods without _some_ preprocessing.\n",
    "\n",
    "Now to prepare the data for training by tokenizing the text content, then it will be ready for using Word2Vec to produce vectors from word embeddings."
   ]
  },
  {
   "cell_type": "code",
   "execution_count": 55,
   "metadata": {},
   "outputs": [
    {
     "name": "stdout",
     "output_type": "stream",
     "text": [
      "showing info https://raw.githubusercontent.com/nltk/nltk_data/gh-pages/index.xml\n"
     ]
    },
    {
     "data": {
      "text/plain": [
       "True"
      ]
     },
     "execution_count": 55,
     "metadata": {},
     "output_type": "execute_result"
    }
   ],
   "source": [
    "\n",
    "# for installing missing corpora if needed\n",
    "# nltk.download()"
   ]
  },
  {
   "cell_type": "code",
   "execution_count": 56,
   "metadata": {},
   "outputs": [
    {
     "name": "stdout",
     "output_type": "stream",
     "text": [
      "18437\n",
      "['worldcom', 'ex', 'boss', 'launch', 'defence', 'lawyer', 'defend', 'worldcom', 'chief', 'bernie', 'ebber', 'battery', 'fraud', 'charge', 'call', 'company', 'whistleblow', 'witness', 'cynthia', 'cooper', 'worldcom', 's', 'ex', 'head', 'internal', 'accounting', 'alert', 'director', 'irregular', 'accounting', 'practice', 'telecom', 'giant', 'warning', 'lead', 'collapse', 'firm', 'follow', 'discovery', 'bn', 'bn', 'accounting', 'fraud', 'mr', 'ebber', 'plead', 'guilty', 'charge', 'fraud', 'conspiracy', 'prosecution', 'lawyer', 'argue', 'mr', 'ebber', 'orchestrate', 'series', 'accounting', 'trick', 'worldcom', 'order', 'employee', 'hide', 'expense', 'inflate', 'revenue', 'meet', 'wall', 'street', 'earning', 'estimate', 'ms', 'cooper', 'run', 'consulting', 'business', 'tell', 'jury', 'new', 'york', 'wednesday', 'external', 'auditor', 'arthur', 'andersen', 'approve', 'worldcom', 's', 'accounting', 'early', 'say', 'andersen', 'give', 'green', 'light', 'procedure', 'practice', 'worldcom', 'mr', 'ebber', 's', 'lawyer', 'say', 'unaware', 'fraud', 'argue', 'auditor', 'alert', 'problem', 'ms', 'cooper', 'say', 'shareholder', 'meeting', 'mr', 'ebber', 'pass', 'technical', 'question', 'company', 's', 'finance', 'chief', 'give', 'brief', 'answer', 'prosecution', 's', 'star', 'witness', 'worldcom', 'financial', 'chief', 'scott', 'sullivan', 'say', 'mr', 'ebber', 'order', 'accounting', 'adjustment', 'firm', 'tell', 'hit', 'book', 'ms', 'cooper', 'say', 'mr', 'sullivan', 'mention', 'uncomfortable', 'worldcom', 's', 'accounting', 'audit', 'committee', 'meeting', 'mr', 'ebber', 'face', 'jail', 'sentence', 'year', 'convict', 'charge', 'face', 'worldcom', 'emerge', 'bankruptcy', 'protection', 'know', 'mci', 'week', 'mci', 'agree', 'buyout', 'verizon', 'communication', 'deal', 'value', 'bn'] ['hewitt', 'overcome', 'wobble', 'sydney', 'lleyton', 'hewitt', 'give', 'perfect', 'preparation', 'week', 's', 'australian', 'open', 'victory', 'ivo', 'minar', 'final', 'sydney', 'international', 'defend', 'champion', 'brush', 'aside', 'czech', 'qualifi', 'australian', 'world', 'number', 'stroll', 'game', 'match', 'shock', 'minar', 'win', 'seed', 'rattle', 'recover', 'close', 'set', 'race', 'victory', 'exactly', 'hour', 'strange', 'match', 'momentum', 'swing', 'say', 'hewitt', 'feel', 'like', 'come', 'block', 'extremely', 'loosen', 'bit', 'get', 'try', 'settle', 'notch', 'able', 'hewitt', 'lift', 'sydney', 'title', 'time', 'year', 'keep', 'get', 'well', 'well', 'year', 'hewitt', 'say', 've', 'play', 'tournament', 'time', 've', 'win', 'time', 'hewitt', 'go', 'final', 'short', 'price', 'favourite', 'clinch', 'th', 'career', 'title', 'drop', 'set', 'week', 'set', 'meet', 'frenchman', 'arnaud', 'clement', 'round', 'australian', 'open', 'minar', 'rank', 'th', 'world', 'force', 'pull', 'australian', 'open', 'qualifying', 'draw', 'play', 'atp', 'final', 'big', 'success', 'say', 'year', 'old', 'nervous', 'night', 'couldn', 't', 'sleep', 've', 'play', 'player', 'want', 'play', 'qualify', 'melbourne', 's', 'saturday', 'm', 'main', 'draw', 'need', 'point', 'money', 'alicia', 'molik', 'take', 'samantha', 'stosur', 'australian', 'woman', 's', 'final', 'later', 'saturday']\n"
     ]
    }
   ],
   "source": [
    "# Collect tokens for each article, and check frequent words \n",
    "# for verification of earlier cleaning\n",
    "tokens_by_idx = []\n",
    "word_freq = defaultdict(int)\n",
    "\n",
    "for idx, article in train.iterrows():\n",
    "    text = article['Clean Text']\n",
    "    for i in sent_tokenize(text):\n",
    "        temp = []\n",
    "        for j in word_tokenize(i):\n",
    "            temp.append(j.lower())\n",
    "            word_freq[j.lower()] += 1\n",
    "        tokens_by_idx.append(temp)\n",
    "\n",
    "# With stop words, unique word count was 28,178\n",
    "print(len(word_freq))\n",
    "print(tokens_by_idx[0],tokens_by_idx[20])"
   ]
  },
  {
   "cell_type": "code",
   "execution_count": 57,
   "metadata": {},
   "outputs": [
    {
     "name": "stdout",
     "output_type": "stream",
     "text": [
      "Top 20 most frequent:\n",
      " ['s', 'say', 'year', 'mr', 'new', 'people', 'm', 'good', 'win', 'time', 'game', 'film', 'world', 't', 'uk', 'come', 'government', 'play', 'go', 'work']\n"
     ]
    }
   ],
   "source": [
    "word_freq_sorted = sorted(word_freq, key=word_freq.get, reverse=True)\n",
    "print(\"Top 20 most frequent:\\n\", word_freq_sorted[:20])"
   ]
  },
  {
   "cell_type": "code",
   "execution_count": 58,
   "metadata": {},
   "outputs": [
    {
     "name": "stdout",
     "output_type": "stream",
     "text": [
      "Score 'lawyer' <-> 'defence':  0.26813266\n",
      "Score 'lawyer' <-> 'economy': -0.097674064\n"
     ]
    }
   ],
   "source": [
    "# Train Word2Vec model to build word embedding space\n",
    "bag_of_words_model = gensim.models.Word2Vec(tokens_by_idx, min_count=5, vector_size=100, window=3, epochs=50)\n",
    "\n",
    "# Print example similarity scores using embeddings\n",
    "print(\"Score 'lawyer' <-> 'defence': \", bag_of_words_model.wv.similarity('lawyer', 'defence'))\n",
    "print(\"Score 'lawyer' <-> 'economy':\", bag_of_words_model.wv.similarity('lawyer', 'economy'))"
   ]
  },
  {
   "cell_type": "code",
   "execution_count": 59,
   "metadata": {},
   "outputs": [
    {
     "data": {
      "text/plain": [
       "[('economic', 0.5649333000183105),\n",
       " ('gdp', 0.5107204914093018),\n",
       " ('export', 0.507564127445221),\n",
       " ('manufacturing', 0.49129581451416016),\n",
       " ('inflation', 0.47642725706100464),\n",
       " ('growth', 0.4555329978466034),\n",
       " ('deficit', 0.4527810513973236),\n",
       " ('spending', 0.45186713337898254),\n",
       " ('recovery', 0.44436660408973694),\n",
       " ('lending', 0.44104188680648804)]"
      ]
     },
     "execution_count": 59,
     "metadata": {},
     "output_type": "execute_result"
    }
   ],
   "source": [
    "# Further exploration of how well our bag of words model is associating words\n",
    "bag_of_words_model.wv.most_similar(positive=[\"economy\"])"
   ]
  },
  {
   "cell_type": "markdown",
   "metadata": {},
   "source": [
    "#### EDA: Word token distribution"
   ]
  },
  {
   "cell_type": "code",
   "execution_count": 60,
   "metadata": {},
   "outputs": [],
   "source": [
    "sorted_counts = sorted(word_freq.items(), key=lambda x: x[1], reverse=True)"
   ]
  },
  {
   "cell_type": "code",
   "execution_count": 61,
   "metadata": {},
   "outputs": [
    {
     "data": {
      "image/png": "[encoded data removed]",
      "text/plain": [
       "<Figure size 432x288 with 1 Axes>"
      ]
     },
     "metadata": {
      "needs_background": "light"
     },
     "output_type": "display_data"
    }
   ],
   "source": [
    "\n",
    "x, y = zip(*sorted_counts[:300]) # unpack a list of pairs into two tuples\n",
    "\n",
    "plt.plot(x, y, color=\"purple\")\n",
    "plt.title(\"Word Token Frequency\")\n",
    "plt.xticks(np.arange(1, 300, 20.0), rotation = 65)\n",
    "plt.show()"
   ]
  },
  {
   "cell_type": "markdown",
   "metadata": {},
   "source": [
    "The final step in preparing the document data for model training is to combine the word vectors for all words in an article to build an _article representation vector_."
   ]
  },
  {
   "cell_type": "code",
   "execution_count": 62,
   "metadata": {},
   "outputs": [],
   "source": [
    "# Vector combination based on: \n",
    "# https://blog.eduonix.com/artificial-intelligence/converting-word-vectors-document-vectors-using-gensim-library/\n",
    "doc_vectors = []\n",
    "min_val = 0\n",
    "\n",
    "for idx, article in train.iterrows():\n",
    "    tokens = tokens_by_idx[idx]\n",
    "    zero_vector = np.zeros(bag_of_words_model.vector_size)\n",
    "    vectors = []\n",
    "    for token in tokens:\n",
    "        if token in bag_of_words_model.wv:\n",
    "            try:\n",
    "                vectors.append(bag_of_words_model.wv[token])\n",
    "            except KeyError:\n",
    "                continue\n",
    "    if vectors:\n",
    "        vectors = np.asarray(vectors)\n",
    "        avg_vec = vectors.mean(axis=0)\n",
    "        if min(avg_vec) < min_val:\n",
    "            min_val = min(avg_vec)\n",
    "        doc_vectors.append(avg_vec)\n",
    "    else:\n",
    "        doc_vectors.append(zero_vector)\n",
    "\n",
    "train_vectors = train[['ArticleId']].copy()\n",
    "train_vectors['Vectors'] = doc_vectors\n"
   ]
  },
  {
   "cell_type": "markdown",
   "metadata": {},
   "source": [
    "#### Preparing for NMF and Data Split\n",
    "\n",
    "In order to use non-negative matrix factorization, we must transform the document vector space to be only positive.\n",
    "\n",
    "After applying a simple transformation, time to split the data for training."
   ]
  },
  {
   "cell_type": "code",
   "execution_count": 96,
   "metadata": {},
   "outputs": [
    {
     "name": "stdout",
     "output_type": "stream",
     "text": [
      "[array([1.0294478 , 1.7822278 , 1.7913359 , 1.9869816 , 2.2471411 ,\n",
      "       1.175039  , 1.2631197 , 2.1676593 , 1.8254151 , 2.209577  ,\n",
      "       1.4921206 , 1.4580877 , 1.4695758 , 1.7033094 , 1.5764331 ,\n",
      "       1.2054919 , 2.1016057 , 0.9348491 , 1.4811513 , 1.7826023 ,\n",
      "       1.3716033 , 1.9808426 , 1.8467771 , 2.0478828 , 1.554725  ,\n",
      "       1.5022445 , 1.8053565 , 1.8130747 , 1.4247305 , 1.6529782 ,\n",
      "       2.0060406 , 1.8174679 , 1.3908786 , 0.8671991 , 1.521924  ,\n",
      "       1.8911101 , 2.0668097 , 1.5490716 , 1.6389881 , 1.6885407 ,\n",
      "       1.9773983 , 1.4892023 , 1.6590594 , 0.98008937, 2.1197672 ,\n",
      "       2.0416214 , 1.1655856 , 1.2408166 , 1.8981702 , 1.76494   ,\n",
      "       1.8355918 , 1.4679788 , 1.7306923 , 1.3468164 , 1.801261  ,\n",
      "       2.333167  , 1.4316765 , 1.3878539 , 0.7408467 , 1.7303276 ,\n",
      "       0.8392912 , 1.5044818 , 1.9098284 , 1.6070253 , 1.2270792 ,\n",
      "       1.3656816 , 1.4048585 , 1.725655  , 1.5320965 , 1.7841626 ,\n",
      "       1.1127497 , 1.7764571 , 1.5163965 , 1.41823   , 1.3366011 ,\n",
      "       1.3983911 , 1.578377  , 2.1217146 , 1.2424632 , 1.4944407 ,\n",
      "       1.3503813 , 1.6974993 , 1.3903252 , 1.7072272 , 1.3458757 ,\n",
      "       1.4520583 , 1.2535107 , 1.9588331 , 1.83345   , 1.7695324 ,\n",
      "       1.5854468 , 1.4288849 , 1.8455843 , 1.6751251 , 1.7510023 ,\n",
      "       2.009763  , 2.0453596 , 1.2339718 , 1.5339859 , 1.4195888 ],\n",
      "      dtype=float32)]\n"
     ]
    }
   ],
   "source": [
    "# Shift all values to be positive\n",
    "pos_vectors = []\n",
    "for vector in doc_vectors:\n",
    "    pos_vectors.append(vector + abs(min_val))\n",
    "print(pos_vectors[:1])\n",
    "\n",
    "# split data for train/test\n",
    "x_train, x_test, y_train, y_test = train_test_split(pos_vectors, train[['Category']], test_size=0.33, random_state=42)"
   ]
  },
  {
   "cell_type": "markdown",
   "metadata": {},
   "source": [
    "### Unsupervised Model\n",
    "\n",
    "The target unsupervised model for this project will be using Non-Negative Matrix Factorization, effectively reducing latent features to 5 -- the labels."
   ]
  },
  {
   "cell_type": "code",
   "execution_count": 64,
   "metadata": {},
   "outputs": [
    {
     "name": "stdout",
     "output_type": "stream",
     "text": [
      "['business' 'tech' 'politics' 'sport' 'entertainment']\n"
     ]
    }
   ],
   "source": [
    "# We are looking to categorize into 5 labels\n",
    "print(train['Category'].unique())"
   ]
  },
  {
   "cell_type": "code",
   "execution_count": 65,
   "metadata": {},
   "outputs": [
    {
     "data": {
      "text/plain": [
       "NMF(beta_loss='kullback-leibler', init='nndsvda', l1_ratio=0.5, n_components=5,\n",
       "    random_state=57, solver='mu')"
      ]
     },
     "execution_count": 65,
     "metadata": {},
     "output_type": "execute_result"
    }
   ],
   "source": [
    "# Set up and training NMF\n",
    "train_mat = csr_matrix(pos_vectors)\n",
    "nmf_mod = NMF(n_components=5, init='nndsvda', solver = 'mu', l1_ratio = 0.5, random_state = 57)\n",
    "nmf_mod.fit(train_mat)"
   ]
  },
  {
   "cell_type": "code",
   "execution_count": 66,
   "metadata": {},
   "outputs": [],
   "source": [
    "# Functions for evaluating unlabelled model output\n",
    "def predict(weights):\n",
    "    sortedW = np.argsort(weights)\n",
    "    k, maxValue = sortedW.shape\n",
    "    predictions = [[sortedW[i][maxValue - 1]] for i in range(k)]\n",
    "    topics = np.empty(k, dtype = np.int64)\n",
    "    for i in range(k):\n",
    "        topics[i] = predictions[i][0]\n",
    "    return topics\n",
    "\n",
    "# Matching model weights to labels\n",
    "def best_labels(df, y_pred):\n",
    "    \"\"\"\n",
    "    Returns label indices\n",
    "    Example output: (1,2,3,5,4), 0.5\n",
    "    \"\"\"\n",
    "    perms = list(itertools.permutations([0, 1, 2, 3, 4]))\n",
    "    categories = ['business','tech','politics','sport','entertainment']\n",
    "    acc = 0\n",
    "    best_perm = []\n",
    "    current = {}\n",
    "    for perm in perms:\n",
    "        for i in range(len(categories)):\n",
    "            current[categories[i]] = perm[i]\n",
    "            if len(current) == 5:\n",
    "                df['test'] = df['Category'].map(current)\n",
    "                current_accuracy = accuracy_score(df['test'], y_pred)\n",
    "                if current_accuracy > acc:\n",
    "                    df['Predicted'] = df['test']\n",
    "                    acc = current_accuracy\n",
    "                    best_perm = perm\n",
    "    df = df.drop(columns=[\"test\"])\n",
    "    return best_perm, acc"
   ]
  },
  {
   "cell_type": "markdown",
   "metadata": {},
   "source": [
    "### Iterating on Word2Vec parameters\n",
    "\n",
    "Optimizing the word embedding space with the available parameters took several rounds of iteration. Below are some of the attempts and associated accuracy scores:\n",
    "\n",
    "```\n",
    "Parameters                                          Accuracy\n",
    "\n",
    "Using epochs: 5\n",
    "\n",
    "vector_size 50, window size: 4, min_count: 5        0.701\n",
    "vector_size 75, window size: 4, min_count: 5        0.700\n",
    "vector_size 100, window size: 3, min_count: 5       0.742\n",
    "vector_size 125, window size: 3, min_count: 5       0.710\n",
    "\n",
    "vector_size: 100, window size: 4, min_count: 5      0.714\n",
    "vector_size: 100, window size: 2, min_count: 5      0.672\n",
    "\n",
    "vector_size: 100, window size: 3, min_count 10      0.506\n",
    "vector_size: 100, window size: 3, min_count 3       0.6637\n",
    "\n",
    "Using vector_size: 100, window size: 3, min_count 5:\n",
    "\n",
    "epochs: 10      0.5711\n",
    "epochs: 20      0.700\n",
    "epochs 40       0.726\n",
    "epochs 50       0.759   # Winner\n",
    "epochs 60       0.726\n",
    "```"
   ]
  },
  {
   "cell_type": "code",
   "execution_count": 67,
   "metadata": {},
   "outputs": [
    {
     "name": "stdout",
     "output_type": "stream",
     "text": [
      "accuracy= 0.7590604026845638\n"
     ]
    }
   ],
   "source": [
    "y_transform = predict(nmf_mod.transform(train_mat))\n",
    "label_order, accuracy = best_labels(train, y_transform)\n",
    "print('accuracy=', accuracy)\n"
   ]
  },
  {
   "cell_type": "markdown",
   "metadata": {},
   "source": [
    "Further verification of the winning Word2Vec parameters on the test data."
   ]
  },
  {
   "cell_type": "code",
   "execution_count": 76,
   "metadata": {},
   "outputs": [
    {
     "name": "stdout",
     "output_type": "stream",
     "text": [
      "Train accuracy = 0.7384769539078156\n",
      "Test accuracy = 0.8008130081300813\n"
     ]
    }
   ],
   "source": [
    "x_train_mat = csr_matrix(x_train)\n",
    "x_test_mat = csr_matrix(x_test)\n",
    "nmf_mod_split = NMF(n_components=5, init='nndsvda', solver='mu', l1_ratio=0.5, random_state=57)\n",
    "nmf_mod_split.fit(x_train_mat)\n",
    "y_transform_train = predict(nmf_mod.transform(x_train_mat))\n",
    "label_order_train, train_accuracy = best_labels(y_train, y_transform_train)\n",
    "print('Train accuracy =', train_accuracy)\n",
    "y_transform_test = predict(nmf_mod.transform(x_test_mat))\n",
    "label_order_test, test_accuracy = best_labels(y_test, y_transform_test)\n",
    "print('Test accuracy =', test_accuracy)"
   ]
  },
  {
   "cell_type": "markdown",
   "metadata": {},
   "source": [
    "### Comparing to Supervised Model\n",
    "\n",
    "For comparison, previous experience has shown RandomForests to work well on smaller datasets with a reasonable feature space (at least less than number of observations)."
   ]
  },
  {
   "cell_type": "code",
   "execution_count": 100,
   "metadata": {},
   "outputs": [
    {
     "name": "stdout",
     "output_type": "stream",
     "text": [
      "RandomForest train accuracy: 0.998997995991984\n",
      "RandomForest test accuracy: 0.998997995991984\n"
     ]
    }
   ],
   "source": [
    "rf_clf = RandomForestClassifier(criterion=\"gini\", min_samples_split=8)\n",
    "rf_clf.fit(x_train, y_train['Category'])\n",
    "# Evaluate accuracy score\n",
    "rf_pred = rf_clf.predict(x_train)\n",
    "rf_score = accuracy_score(y_train['Category'], rf_pred)\n",
    "print('RandomForest train accuracy:', rf_score)\n",
    "\n",
    "rf_pred_test = rf_clf.predict(x_test)\n",
    "rf_score_test = accuracy_score(y_test['Category'], rf_pred_test)\n",
    "print('RandomForest test accuracy:', rf_score)\n"
   ]
  },
  {
   "cell_type": "markdown",
   "metadata": {},
   "source": [
    "Using primarily default parameters RandomForest achieves almost perfect accuracy while still training quickly.\n",
    "\n",
    "For further comparison, we can also see how both approaches perform with a smaller training set, flipping the data split from 2/3 training data to 1/3 training data."
   ]
  },
  {
   "cell_type": "code",
   "execution_count": 101,
   "metadata": {},
   "outputs": [],
   "source": [
    "x_train_small, x_test_big, y_train_small, y_test_big = train_test_split(pos_vectors, train[['Category']], test_size=0.60, random_state=42)"
   ]
  },
  {
   "cell_type": "code",
   "execution_count": 103,
   "metadata": {},
   "outputs": [
    {
     "name": "stdout",
     "output_type": "stream",
     "text": [
      "Train accuracy = 0.7449664429530202\n",
      "Test accuracy = 0.7684563758389261\n"
     ]
    }
   ],
   "source": [
    "# Unsupervised NMF\n",
    "x_train_mat = csr_matrix(x_train_small)\n",
    "x_test_mat = csr_matrix(x_test_big)\n",
    "nmf_mod_split = NMF(n_components=5, init='nndsvda', solver='mu', l1_ratio=0.5, random_state=57)\n",
    "nmf_mod_split.fit(x_train_mat)\n",
    "y_transform_train_small = predict(nmf_mod.transform(x_train_mat))\n",
    "label_order_train, train_accuracy = best_labels(y_train_small, y_transform_train_small)\n",
    "print('Train accuracy =', train_accuracy)\n",
    "y_transform_test_big = predict(nmf_mod.transform(x_test_mat))\n",
    "label_order_test, test_accuracy = best_labels(y_test_big, y_transform_test_big)\n",
    "print('Test accuracy =', test_accuracy)"
   ]
  },
  {
   "cell_type": "code",
   "execution_count": 104,
   "metadata": {},
   "outputs": [
    {
     "name": "stdout",
     "output_type": "stream",
     "text": [
      "RandomForest train accuracy: 1.0\n",
      "RandomForest test accuracy: 1.0\n"
     ]
    },
    {
     "ename": "",
     "evalue": "",
     "output_type": "error",
     "traceback": [
      "\u001b[1;31mThe Kernel crashed while executing code in the the current cell or a previous cell. Please review the code in the cell(s) to identify a possible cause of the failure. Click <a href='https://aka.ms/vscodeJupyterKernelCrash'>here</a> for more info. View Jupyter <a href='command:jupyter.viewOutput'>log</a> for further details."
     ]
    }
   ],
   "source": [
    "rf_clf = RandomForestClassifier(criterion=\"gini\", min_samples_split=8)\n",
    "rf_clf.fit(x_train_small, y_train_small['Category'])\n",
    "\n",
    "rf_pred = rf_clf.predict(x_train_small)\n",
    "rf_score = accuracy_score(y_train_small['Category'], rf_pred)\n",
    "print('RandomForest train accuracy:', rf_score)\n",
    "\n",
    "rf_pred_test = rf_clf.predict(x_test_big)\n",
    "rf_score_test = accuracy_score(y_test_big['Category'], rf_pred_test)\n",
    "print('RandomForest test accuracy:', rf_score)"
   ]
  },
  {
   "cell_type": "markdown",
   "metadata": {},
   "source": [
    "With a smaller training set, neither model degrades, but surprisingly RandomForest actually achieves perfect accuracy.\n",
    "I would assume that this is due to overfitting to the dataset, and a larger dataset would be needed to develop a more general model."
   ]
  }
 ],
 "metadata": {
  "kernelspec": {
   "display_name": "Python 3.9.0 64-bit",
   "language": "python",
   "name": "python3"
  },
  "language_info": {
   "codemirror_mode": {
    "name": "ipython",
    "version": 3
   },
   "file_extension": ".py",
   "mimetype": "text/x-python",
   "name": "python",
   "nbconvert_exporter": "python",
   "pygments_lexer": "ipython3",
   "version": "3.9.0"
  },
  "orig_nbformat": 4,
  "vscode": {
   "interpreter": {
    "hash": "aee8b7b246df8f9039afb4144a1f6fd8d2ca17a180786b69acc140d282b71a49"
   }
  }
 },
 "nbformat": 4,
 "nbformat_minor": 2
}
