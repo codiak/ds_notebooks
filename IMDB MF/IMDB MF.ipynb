{
 "cells": [
  {
   "cell_type": "markdown",
   "metadata": {},
   "source": [
    "## Movie Ratings & Matrix Factorization"
   ]
  },
  {
   "cell_type": "markdown",
   "metadata": {},
   "source": [
    "### Section 1: Matrix Factorization Techniques"
   ]
  },
  {
   "cell_type": "code",
   "execution_count": 2,
   "metadata": {},
   "outputs": [],
   "source": [
    "import pandas as pd\n",
    "import matplotlib.pyplot as plt\n",
    "import numpy as np\n",
    "from sklearn.model_selection import train_test_split\n",
    "from scipy.sparse import coo_matrix, csr_matrix\n",
    "from scipy.spatial.distance import jaccard, cosine\n",
    "from sklearn.decomposition import NMF"
   ]
  },
  {
   "cell_type": "code",
   "execution_count": 3,
   "metadata": {},
   "outputs": [],
   "source": [
    "ratings = pd.read_csv('data/ratings.dat', sep='::', header=None, names=['mID', 'uID', 'Rating', '?'], engine='python')\n",
    "users = pd.read_csv('data/users.dat', sep='::', header=None, names=['uID', 'gender', 'age', 'occupation', 'zip'], engine='python')\n",
    "movies = pd.read_csv('data/movies.dat', sep='::', header=None, names=['mID','title','Genres'], engine='python')"
   ]
  },
  {
   "cell_type": "code",
   "execution_count": 4,
   "metadata": {},
   "outputs": [
    {
     "name": "stdout",
     "output_type": "stream",
     "text": [
      "   mID   uID  Rating          ?\n",
      "0    1  1193       5  978300760\n",
      "1    1   661       3  978302109\n",
      "2    1   914       3  978301968\n",
      "3    1  3408       4  978300275\n",
      "4    1  2355       5  978824291\n",
      "   uID gender  age  occupation    zip\n",
      "0    1      F    1          10  48067\n",
      "1    2      M   56          16  70072\n",
      "2    3      M   25          15  55117\n",
      "3    4      M   45           7  02460\n",
      "4    5      M   25          20  55455\n",
      "   mID                               title                        Genres\n",
      "0    1                    Toy Story (1995)   Animation|Children's|Comedy\n",
      "1    2                      Jumanji (1995)  Adventure|Children's|Fantasy\n",
      "2    3             Grumpier Old Men (1995)                Comedy|Romance\n",
      "3    4            Waiting to Exhale (1995)                  Comedy|Drama\n",
      "4    5  Father of the Bride Part II (1995)                        Comedy\n"
     ]
    }
   ],
   "source": [
    "print(ratings.head())\n",
    "print(users.head())\n",
    "print(movies.head())"
   ]
  },
  {
   "cell_type": "code",
   "execution_count": 5,
   "metadata": {},
   "outputs": [
    {
     "data": {
      "text/html": [
       "<div>\n",
       "<style scoped>\n",
       "    .dataframe tbody tr th:only-of-type {\n",
       "        vertical-align: middle;\n",
       "    }\n",
       "\n",
       "    .dataframe tbody tr th {\n",
       "        vertical-align: top;\n",
       "    }\n",
       "\n",
       "    .dataframe thead th {\n",
       "        text-align: right;\n",
       "    }\n",
       "</style>\n",
       "<table border=\"1\" class=\"dataframe\">\n",
       "  <thead>\n",
       "    <tr style=\"text-align: right;\">\n",
       "      <th></th>\n",
       "      <th>mID</th>\n",
       "      <th>genre_encoding</th>\n",
       "    </tr>\n",
       "  </thead>\n",
       "  <tbody>\n",
       "    <tr>\n",
       "      <th>0</th>\n",
       "      <td>1</td>\n",
       "      <td>[1.0, 1.0, 1.0, 0.0, 0.0, 0.0, 0.0, 0.0, 0.0, ...</td>\n",
       "    </tr>\n",
       "    <tr>\n",
       "      <th>1</th>\n",
       "      <td>2</td>\n",
       "      <td>[0.0, 1.0, 0.0, 1.0, 1.0, 0.0, 0.0, 0.0, 0.0, ...</td>\n",
       "    </tr>\n",
       "    <tr>\n",
       "      <th>2</th>\n",
       "      <td>3</td>\n",
       "      <td>[0.0, 0.0, 1.0, 0.0, 0.0, 1.0, 0.0, 0.0, 0.0, ...</td>\n",
       "    </tr>\n",
       "    <tr>\n",
       "      <th>3</th>\n",
       "      <td>4</td>\n",
       "      <td>[0.0, 0.0, 1.0, 0.0, 0.0, 0.0, 1.0, 0.0, 0.0, ...</td>\n",
       "    </tr>\n",
       "    <tr>\n",
       "      <th>4</th>\n",
       "      <td>5</td>\n",
       "      <td>[0.0, 0.0, 1.0, 0.0, 0.0, 0.0, 0.0, 0.0, 0.0, ...</td>\n",
       "    </tr>\n",
       "  </tbody>\n",
       "</table>\n",
       "</div>"
      ],
      "text/plain": [
       "   mID                                     genre_encoding\n",
       "0    1  [1.0, 1.0, 1.0, 0.0, 0.0, 0.0, 0.0, 0.0, 0.0, ...\n",
       "1    2  [0.0, 1.0, 0.0, 1.0, 1.0, 0.0, 0.0, 0.0, 0.0, ...\n",
       "2    3  [0.0, 0.0, 1.0, 0.0, 0.0, 1.0, 0.0, 0.0, 0.0, ...\n",
       "3    4  [0.0, 0.0, 1.0, 0.0, 0.0, 0.0, 1.0, 0.0, 0.0, ...\n",
       "4    5  [0.0, 0.0, 1.0, 0.0, 0.0, 0.0, 0.0, 0.0, 0.0, ..."
      ]
     },
     "execution_count": 5,
     "metadata": {},
     "output_type": "execute_result"
    }
   ],
   "source": [
    "# Data preparation\n",
    "genres = []\n",
    "for genre_str in movies['Genres']:\n",
    "    for g in genre_str.split('|'):\n",
    "        try:\n",
    "            gi = genres.index(g)\n",
    "        except:\n",
    "            genres.append(g)\n",
    "\n",
    "# manually build one-hot encoding\n",
    "encodings = []\n",
    "for genre_str in movies['Genres']:\n",
    "    encoding = np.zeros([len(genres),])\n",
    "    for g in genre_str.split('|'):\n",
    "        gi = genres.index(g)\n",
    "        encoding[gi] = 1\n",
    "    encodings.append(encoding)\n",
    "\n",
    "movie_data = movies.copy()[[\"mID\"]]\n",
    "movie_data['genre_encoding'] = encodings\n",
    "movie_data.head()"
   ]
  },
  {
   "cell_type": "code",
   "execution_count": 8,
   "metadata": {},
   "outputs": [
    {
     "name": "stderr",
     "output_type": "stream",
     "text": [
      "/Library/Frameworks/Python.framework/Versions/3.9/lib/python3.9/site-packages/sklearn/decomposition/_nmf.py:312: FutureWarning: The 'init' value, when 'init=None' and n_components is less than n_samples and n_features, will be changed from 'nndsvd' to 'nndsvda' in 1.1 (renaming of 0.26).\n",
      "  warnings.warn((\"The 'init' value, when 'init=None' and \"\n"
     ]
    },
    {
     "data": {
      "text/plain": [
       "NMF(l1_ratio=0.5, n_components=18, random_state=57)"
      ]
     },
     "execution_count": 8,
     "metadata": {},
     "output_type": "execute_result"
    }
   ],
   "source": [
    "x_train, x_test = train_test_split(encodings, test_size=0.33, random_state=42)\n",
    "train_mat = csr_matrix(x_train)\n",
    "nmf_mod = NMF(n_components=18, l1_ratio = 0.5, random_state = 57)\n",
    "nmf_mod.fit(train_mat)"
   ]
  },
  {
   "cell_type": "code",
   "execution_count": 10,
   "metadata": {},
   "outputs": [
    {
     "name": "stdout",
     "output_type": "stream",
     "text": [
      "RMSE: 0.2700338629407287\n"
     ]
    }
   ],
   "source": [
    "from sklearn.metrics import mean_squared_error\n",
    "\n",
    "y_transform_train = nmf_mod.transform(encodings)\n",
    "\n",
    "rmse = mean_squared_error(encodings, y_transform_train, squared=False)\n",
    "\n",
    "print(\"RMSE:\", rmse)"
   ]
  },
  {
   "cell_type": "markdown",
   "metadata": {},
   "source": [
    "In this case the RMSE is comparatively low, considering results in the Recommender System module produce error values closer to 1. However, this does represent the model's ability to associate genres rather than predict a rating value."
   ]
  },
  {
   "cell_type": "markdown",
   "metadata": {},
   "source": [
    "Previous RMSE values from other methods for reference:\n",
    "\n",
    "```\n",
    "Baseline: Predict everything to 3\n",
    "RMSE 1.259\n",
    "\n",
    "Baseline: Predict to user average\n",
    "RMSE 1.035\n",
    "\n",
    "C​ontent based, item-item\n",
    "RMSE 1.38\n",
    "\n",
    "Collaborative cosine\n",
    "RMSE of 1.02\n",
    "```"
   ]
  }
 ],
 "metadata": {
  "kernelspec": {
   "display_name": "Python 3.9.0 64-bit",
   "language": "python",
   "name": "python3"
  },
  "language_info": {
   "codemirror_mode": {
    "name": "ipython",
    "version": 3
   },
   "file_extension": ".py",
   "mimetype": "text/x-python",
   "name": "python",
   "nbconvert_exporter": "python",
   "pygments_lexer": "ipython3",
   "version": "3.9.0"
  },
  "orig_nbformat": 4,
  "vscode": {
   "interpreter": {
    "hash": "aee8b7b246df8f9039afb4144a1f6fd8d2ca17a180786b69acc140d282b71a49"
   }
  }
 },
 "nbformat": 4,
 "nbformat_minor": 2
}
